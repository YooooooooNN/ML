{
  "metadata": {
    "kernelspec": {
      "name": "python",
      "display_name": "Python (Pyodide)",
      "language": "python"
    },
    "language_info": {
      "codemirror_mode": {
        "name": "python",
        "version": 3
      },
      "file_extension": ".py",
      "mimetype": "text/x-python",
      "name": "python",
      "nbconvert_exporter": "python",
      "pygments_lexer": "ipython3",
      "version": "3.8"
    },
    "colab": {
      "name": "Day_004_column_data_type.ipynb",
      "provenance": [],
      "version": "0.3.2"
    }
  },
  "nbformat_minor": 4,
  "nbformat": 4,
  "cells": [
    {
      "cell_type": "markdown",
      "source": "# [作業目標]\n- 仿造範例的 One Hot Encoding, 將指定的資料進行編碼",
      "metadata": {}
    },
    {
      "cell_type": "markdown",
      "source": "# [作業重點]\n- 將 sub_train 進行 One Hot Encoding 編碼 (In[4], Out[4])",
      "metadata": {}
    },
    {
      "cell_type": "code",
      "source": "import os\nimport numpy as np\nimport pandas as pd",
      "metadata": {
        "colab": {},
        "colab_type": "code",
        "id": "lh9gyloHVblR",
        "trusted": true
      },
      "outputs": [],
      "execution_count": 1
    },
    {
      "cell_type": "code",
      "source": "# 設定 data_path, 並讀取 app_train\ndir_data = 'data/'\nf_app_train = os.path.join(dir_data, 'application_train.csv')\nf_app_train\napp_train = pd.read_csv(f_app_train)",
      "metadata": {
        "colab": {},
        "colab_type": "code",
        "id": "z4iLB9cKVblV",
        "trusted": true
      },
      "outputs": [],
      "execution_count": 6
    },
    {
      "cell_type": "markdown",
      "source": "## 作業\n將下列部分資料片段 sub_train 使用 One Hot encoding, 並觀察轉換前後的欄位數量 (使用 shape) 與欄位名稱 (使用 head) 變化",
      "metadata": {
        "colab": {},
        "colab_type": "code",
        "collapsed": true,
        "id": "d5IeEcPVVblq",
        "jupyter": {
          "outputs_hidden": true
        }
      }
    },
    {
      "cell_type": "code",
      "source": "app_train['WEEKDAY_APPR_PROCESS_START']",
      "metadata": {
        "trusted": true
      },
      "outputs": [
        {
          "execution_count": 7,
          "output_type": "execute_result",
          "data": {
            "text/plain": "0        WEDNESDAY\n1           MONDAY\n2           MONDAY\n3        WEDNESDAY\n4         THURSDAY\n           ...    \n15518       FRIDAY\n15519     THURSDAY\n15520     SATURDAY\n15521       FRIDAY\n15522          NaN\nName: WEEKDAY_APPR_PROCESS_START, Length: 15523, dtype: object"
          },
          "metadata": {}
        }
      ],
      "execution_count": 7
    },
    {
      "cell_type": "code",
      "source": "sub_train = pd.DataFrame(app_train['WEEKDAY_APPR_PROCESS_START'])\nprint(sub_train.shape)\nsub_train.head()",
      "metadata": {
        "trusted": true
      },
      "outputs": [
        {
          "name": "stdout",
          "text": "(15523, 1)\n",
          "output_type": "stream"
        },
        {
          "execution_count": 8,
          "output_type": "execute_result",
          "data": {
            "text/plain": "  WEEKDAY_APPR_PROCESS_START\n0                  WEDNESDAY\n1                     MONDAY\n2                     MONDAY\n3                  WEDNESDAY\n4                   THURSDAY",
            "text/html": "<div>\n<style scoped>\n    .dataframe tbody tr th:only-of-type {\n        vertical-align: middle;\n    }\n\n    .dataframe tbody tr th {\n        vertical-align: top;\n    }\n\n    .dataframe thead th {\n        text-align: right;\n    }\n</style>\n<table border=\"1\" class=\"dataframe\">\n  <thead>\n    <tr style=\"text-align: right;\">\n      <th></th>\n      <th>WEEKDAY_APPR_PROCESS_START</th>\n    </tr>\n  </thead>\n  <tbody>\n    <tr>\n      <th>0</th>\n      <td>WEDNESDAY</td>\n    </tr>\n    <tr>\n      <th>1</th>\n      <td>MONDAY</td>\n    </tr>\n    <tr>\n      <th>2</th>\n      <td>MONDAY</td>\n    </tr>\n    <tr>\n      <th>3</th>\n      <td>WEDNESDAY</td>\n    </tr>\n    <tr>\n      <th>4</th>\n      <td>THURSDAY</td>\n    </tr>\n  </tbody>\n</table>\n</div>"
          },
          "metadata": {}
        }
      ],
      "execution_count": 8
    },
    {
      "cell_type": "code",
      "source": "\"\"\"\nYour Code Here\n\"\"\"\nsub_train_dummies = pd.get_dummies(sub_train)\nprint(sub_train_dummies.shape)\nsub_train_dummies.head()",
      "metadata": {
        "trusted": true
      },
      "outputs": [
        {
          "name": "stdout",
          "text": "(15523, 7)\n",
          "output_type": "stream"
        },
        {
          "execution_count": 9,
          "output_type": "execute_result",
          "data": {
            "text/plain": "   WEEKDAY_APPR_PROCESS_START_FRIDAY  WEEKDAY_APPR_PROCESS_START_MONDAY  \\\n0                                  0                                  0   \n1                                  0                                  1   \n2                                  0                                  1   \n3                                  0                                  0   \n4                                  0                                  0   \n\n   WEEKDAY_APPR_PROCESS_START_SATURDAY  WEEKDAY_APPR_PROCESS_START_SUNDAY  \\\n0                                    0                                  0   \n1                                    0                                  0   \n2                                    0                                  0   \n3                                    0                                  0   \n4                                    0                                  0   \n\n   WEEKDAY_APPR_PROCESS_START_THURSDAY  WEEKDAY_APPR_PROCESS_START_TUESDAY  \\\n0                                    0                                   0   \n1                                    0                                   0   \n2                                    0                                   0   \n3                                    0                                   0   \n4                                    1                                   0   \n\n   WEEKDAY_APPR_PROCESS_START_WEDNESDAY  \n0                                     1  \n1                                     0  \n2                                     0  \n3                                     1  \n4                                     0  ",
            "text/html": "<div>\n<style scoped>\n    .dataframe tbody tr th:only-of-type {\n        vertical-align: middle;\n    }\n\n    .dataframe tbody tr th {\n        vertical-align: top;\n    }\n\n    .dataframe thead th {\n        text-align: right;\n    }\n</style>\n<table border=\"1\" class=\"dataframe\">\n  <thead>\n    <tr style=\"text-align: right;\">\n      <th></th>\n      <th>WEEKDAY_APPR_PROCESS_START_FRIDAY</th>\n      <th>WEEKDAY_APPR_PROCESS_START_MONDAY</th>\n      <th>WEEKDAY_APPR_PROCESS_START_SATURDAY</th>\n      <th>WEEKDAY_APPR_PROCESS_START_SUNDAY</th>\n      <th>WEEKDAY_APPR_PROCESS_START_THURSDAY</th>\n      <th>WEEKDAY_APPR_PROCESS_START_TUESDAY</th>\n      <th>WEEKDAY_APPR_PROCESS_START_WEDNESDAY</th>\n    </tr>\n  </thead>\n  <tbody>\n    <tr>\n      <th>0</th>\n      <td>0</td>\n      <td>0</td>\n      <td>0</td>\n      <td>0</td>\n      <td>0</td>\n      <td>0</td>\n      <td>1</td>\n    </tr>\n    <tr>\n      <th>1</th>\n      <td>0</td>\n      <td>1</td>\n      <td>0</td>\n      <td>0</td>\n      <td>0</td>\n      <td>0</td>\n      <td>0</td>\n    </tr>\n    <tr>\n      <th>2</th>\n      <td>0</td>\n      <td>1</td>\n      <td>0</td>\n      <td>0</td>\n      <td>0</td>\n      <td>0</td>\n      <td>0</td>\n    </tr>\n    <tr>\n      <th>3</th>\n      <td>0</td>\n      <td>0</td>\n      <td>0</td>\n      <td>0</td>\n      <td>0</td>\n      <td>0</td>\n      <td>1</td>\n    </tr>\n    <tr>\n      <th>4</th>\n      <td>0</td>\n      <td>0</td>\n      <td>0</td>\n      <td>0</td>\n      <td>1</td>\n      <td>0</td>\n      <td>0</td>\n    </tr>\n  </tbody>\n</table>\n</div>"
          },
          "metadata": {}
        }
      ],
      "execution_count": 9
    },
    {
      "cell_type": "code",
      "source": "",
      "metadata": {
        "trusted": true
      },
      "outputs": [],
      "execution_count": null
    }
  ]
}
